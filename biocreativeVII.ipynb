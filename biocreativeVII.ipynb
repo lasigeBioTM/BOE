{
  "cells": [
    {
      "cell_type": "code",
      "execution_count": null,
      "metadata": {
        "id": "RuZ6fHyiTtJ-"
      },
      "outputs": [],
      "source": [
        "from google.colab import drive\n",
        "drive.mount('/content/drive')"
      ]
    },
    {
      "cell_type": "code",
      "execution_count": null,
      "metadata": {
        "id": "SlCo4kgejAjn"
      },
      "outputs": [],
      "source": [
        "%cd drive/MyDrive/BOE-main/"
      ]
    },
    {
      "cell_type": "code",
      "execution_count": null,
      "metadata": {
        "id": "HdfzjBXPFA10",
        "collapsed": true
      },
      "outputs": [],
      "source": [
        "%cd bin/sst-light-0.4/\n",
        "!make\n",
        "%cd ../../"
      ]
    },
    {
      "cell_type": "code",
      "execution_count": null,
      "metadata": {
        "id": "-1KD_CbFiCra"
      },
      "outputs": [],
      "source": [
        "%cd bin/obonet\n",
        "!python setup.py install\n",
        "%cd ../../"
      ]
    },
    {
      "cell_type": "code",
      "execution_count": null,
      "metadata": {
        "id": "axyC4JGUchRt"
      },
      "outputs": [],
      "source": [
        "!pip install pysbd"
      ]
    },
    {
      "cell_type": "code",
      "execution_count": null,
      "metadata": {
        "id": "hZXBJAPiUYBE"
      },
      "outputs": [],
      "source": [
        "!python src/ontologies_embeddings.py preprocess main temp/"
      ]
    },
    {
      "cell_type": "code",
      "execution_count": null,
      "metadata": {
        "id": "LVxxrJfjPhfH"
      },
      "outputs": [],
      "source": [
        "!python src/ontologies_embeddings.py preprocess main temp_dev/"
      ]
    },
    {
      "cell_type": "code",
      "execution_count": null,
      "metadata": {
        "id": "gUQgs1VehV-N"
      },
      "outputs": [],
      "source": [
        "%cd data/\n",
        "!wget -q ftp://ftp.ebi.ac.uk/pub/databases/chebi/ontology/chebi.obo\n",
        "!wget -q http://purl.obolibrary.org/obo/go.obo\n",
        "!wget -q http://evexdb.org/pmresources/vec-space-models/PubMed-w2v.bin\n",
        "%cd ../"
      ]
    },
    {
      "cell_type": "code",
      "execution_count": null,
      "metadata": {
        "id": "Ywn6CjBFgNLv"
      },
      "outputs": [],
      "source": [
        "!python src/ontologies_embeddings.py train model_rep words wordnet concatenation_ancestors temp/"
      ]
    },
    {
      "cell_type": "code",
      "execution_count": null,
      "metadata": {
        "id": "GrOGDVhKnwml"
      },
      "outputs": [],
      "source": [
        "!python src/ontologies_embeddings.py test model_rep words wordnet concatenation_ancestors temp_dev/"
      ]
    },
    {
      "cell_type": "code",
      "execution_count": null,
      "metadata": {
        "id": "uNJuSe7zqBFq"
      },
      "outputs": [],
      "source": [
        "%cd drugprot-evaluation-library\n",
        "!pip install -r requirements.txt\n",
        "%cd ../"
      ]
    },
    {
      "cell_type": "code",
      "source": [
        "%cd drugprot-evaluation-library/src\n",
        "!python main.py -g ../../gs-data/drugprot_development_relations.tsv -p ../../results/model_main_results.tsv -e ../../gs-data/drugprot_development_entities.tsv --pmids ../../gs-data/pmids.txt\n",
        "%cd ../../"
      ],
      "metadata": {
        "id": "CoKGVIe6-ewe"
      },
      "execution_count": null,
      "outputs": []
    },
    {
      "cell_type": "code",
      "execution_count": null,
      "metadata": {
        "id": "ku94gmciqTrT"
      },
      "outputs": [],
      "source": [
        "%cd drugprot-evaluation-library/src\n",
        "!python main.py -g ../../gs-data/drugprot_development_relations.tsv -p ../../results/model_extra_results.tsv -e ../../gs-data/drugprot_development_entities.tsv --pmids ../../gs-data/pmids.txt\n",
        "%cd ../../"
      ]
    }
  ],
  "metadata": {
    "colab": {
      "provenance": []
    },
    "gpuClass": "standard",
    "kernelspec": {
      "display_name": "Python 3",
      "name": "python3"
    },
    "language_info": {
      "name": "python"
    }
  },
  "nbformat": 4,
  "nbformat_minor": 0
}